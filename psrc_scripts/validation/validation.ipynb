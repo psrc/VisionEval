{
 "cells": [
  {
   "cell_type": "code",
   "execution_count": 3,
   "metadata": {},
   "outputs": [],
   "source": [
    "import os\n",
    "import pandas as pd\n",
    "import pyreadr\n",
    "import geopandas as gpd"
   ]
  },
  {
   "cell_type": "code",
   "execution_count": 62,
   "metadata": {},
   "outputs": [],
   "source": [
    "output_dir = r'C:\\Workspace\\VisionEval_build\\VisionEval\\built\\visioneval\\4.1.2\\runtime\\models\\VERSPM\\Datastore'\n",
    "\n",
    "year = '2018'\n",
    "def export_households(output_dir, year, scenario_name):\n",
    "\n",
    "    hh_df = pd.DataFrame()\n",
    "    hh_path = os.path.join(output_dir, year, 'Household')\n",
    "    for fname in os.listdir(hh_path):\n",
    "        result = pyreadr.read_r(os.path.join(hh_path, fname))\n",
    "        hh_df[fname.split('.')[0]] = result['Dataset']['Dataset']\n",
    "    hh_df['Scenario'] = scenario_name\n",
    "\n",
    "    return hh_df"
   ]
  },
  {
   "cell_type": "code",
   "execution_count": 5,
   "metadata": {},
   "outputs": [],
   "source": [
    "soundcast_dir = r'L:\\RTP_2022\\final_runs\\sc_2018_rtp_final\\soundcast\\outputs\\daysim'\n",
    "\n",
    "# Load soundcast reslts for vehicles and drivers\n",
    "daysim_hh = pd.read_csv(os.path.join(soundcast_dir,'_household.tsv'), delim_whitespace=True)\n",
    "daysim_trip = pd.read_csv(os.path.join(soundcast_dir,'_trip.tsv'), delim_whitespace=True)\n",
    "daysim_person = pd.read_csv(os.path.join(soundcast_dir,'_person.tsv'), delim_whitespace=True)"
   ]
  },
  {
   "cell_type": "code",
   "execution_count": 63,
   "metadata": {},
   "outputs": [],
   "source": [
    "\n",
    "hh_df_base = export_households(output_dir, year='2018', scenario_name='2018')"
   ]
  },
  {
   "cell_type": "code",
   "execution_count": 64,
   "metadata": {},
   "outputs": [],
   "source": [
    "# output_dir"
   ]
  },
  {
   "cell_type": "code",
   "execution_count": 65,
   "metadata": {},
   "outputs": [],
   "source": [
    "pd.options.display.float_format = '{:0,.0f}'.format"
   ]
  },
  {
   "cell_type": "code",
   "execution_count": 66,
   "metadata": {},
   "outputs": [],
   "source": [
    "def build_table(ve_arg, sc_arg):\n",
    "    ve_val = pd.eval(ve_arg, engine='python')\n",
    "    sc_val = pd.eval(sc_arg, engine='python')\n",
    "    df = pd.DataFrame([ve_val,sc_val]).T\n",
    "    df.columns = ['VisionEval', 'Soundcast']\n",
    "    # df.fillna(-1, inplace=True)\n",
    "    df['Diff'] = df['VisionEval']-df['Soundcast']\n",
    "    df['% Diff'] = (df['Diff']/df['Soundcast'])\n",
    "    df[['% Diff']] = df[['% Diff']].applymap(\"{:,.1%}\".format)\n",
    "\n",
    "    return df"
   ]
  },
  {
   "cell_type": "code",
   "execution_count": 67,
   "metadata": {},
   "outputs": [
    {
     "data": {
      "text/plain": [
       "Index(['Age0to14', 'Age15to19', 'Age20to29', 'Age30to54', 'Age55to64',\n",
       "       'Age65Plus', 'AveCO2ePM', 'AveGPM', 'AveKWHPM', 'AveRoadUseTaxPM',\n",
       "       'AveSocEnvCostPM', 'AveTrpLenDiverted', 'AveVehCostPM', 'AveVehTripLen',\n",
       "       'Azone', 'BikeTrips', 'Bzone', 'CarSvcLevel', 'DailyCO2e', 'DailyGGE',\n",
       "       'DailyKWH', 'Drivers', 'Drv15to19', 'Drv20to29', 'Drv30to54',\n",
       "       'Drv55to64', 'Drv65Plus', 'DrvAgePersons', 'Dvmt', 'FreeParkingSpaces',\n",
       "       'HasPaydIns', 'HhId', 'HhSize', 'HhType', 'HouseType', 'Income',\n",
       "       'IsEcoDrive', 'IsIMP', 'IsUrbanMixNbrhd', 'LifeCycle', 'LocType',\n",
       "       'Marea', 'NumAuto', 'NumHighCarSvc', 'NumLtTrk', 'OtherParkingCost',\n",
       "       'OwnCost', 'OwnCostSavings', 'ParkingUnitCost', 'PropDvmtDiverted',\n",
       "       'PropTdmDvmtReduction', 'SovDvmtProp', 'TransitTrips', 'UrbanDvmtProp',\n",
       "       'Vehicles', 'VehicleTrips', 'WalkTrips', 'Wkr15to19', 'Wkr20to29',\n",
       "       'Wkr30to54', 'Wkr55to64', 'Wkr65Plus', 'Workers', 'Scenario'],\n",
       "      dtype='object')"
      ]
     },
     "execution_count": 67,
     "metadata": {},
     "output_type": "execute_result"
    }
   ],
   "source": [
    "hh_df_base.columns"
   ]
  },
  {
   "cell_type": "markdown",
   "metadata": {},
   "source": [
    "# Vehicle Ownership"
   ]
  },
  {
   "cell_type": "code",
   "execution_count": 68,
   "metadata": {},
   "outputs": [
    {
     "data": {
      "text/html": [
       "<div>\n",
       "<style scoped>\n",
       "    .dataframe tbody tr th:only-of-type {\n",
       "        vertical-align: middle;\n",
       "    }\n",
       "\n",
       "    .dataframe tbody tr th {\n",
       "        vertical-align: top;\n",
       "    }\n",
       "\n",
       "    .dataframe thead th {\n",
       "        text-align: right;\n",
       "    }\n",
       "</style>\n",
       "<table border=\"1\" class=\"dataframe\">\n",
       "  <thead>\n",
       "    <tr style=\"text-align: right;\">\n",
       "      <th></th>\n",
       "      <th>VisionEval</th>\n",
       "      <th>Soundcast</th>\n",
       "      <th>Diff</th>\n",
       "      <th>% Diff</th>\n",
       "    </tr>\n",
       "  </thead>\n",
       "  <tbody>\n",
       "    <tr>\n",
       "      <th>0</th>\n",
       "      <td>3,522,728</td>\n",
       "      <td>3,069,100</td>\n",
       "      <td>453,628</td>\n",
       "      <td>14.8%</td>\n",
       "    </tr>\n",
       "  </tbody>\n",
       "</table>\n",
       "</div>"
      ],
      "text/plain": [
       "   VisionEval  Soundcast    Diff % Diff\n",
       "0   3,522,728  3,069,100 453,628  14.8%"
      ]
     },
     "execution_count": 68,
     "metadata": {},
     "output_type": "execute_result"
    }
   ],
   "source": [
    "build_table(\"hh_df_base['Vehicles'].sum()\", \"daysim_hh['hhvehs'].sum()\")"
   ]
  },
  {
   "cell_type": "code",
   "execution_count": 69,
   "metadata": {},
   "outputs": [
    {
     "data": {
      "text/html": [
       "<div>\n",
       "<style scoped>\n",
       "    .dataframe tbody tr th:only-of-type {\n",
       "        vertical-align: middle;\n",
       "    }\n",
       "\n",
       "    .dataframe tbody tr th {\n",
       "        vertical-align: top;\n",
       "    }\n",
       "\n",
       "    .dataframe thead th {\n",
       "        text-align: right;\n",
       "    }\n",
       "</style>\n",
       "<table border=\"1\" class=\"dataframe\">\n",
       "  <thead>\n",
       "    <tr style=\"text-align: right;\">\n",
       "      <th></th>\n",
       "      <th>VisionEval</th>\n",
       "      <th>Soundcast</th>\n",
       "      <th>Diff</th>\n",
       "      <th>% Diff</th>\n",
       "    </tr>\n",
       "  </thead>\n",
       "  <tbody>\n",
       "    <tr>\n",
       "      <th>0</th>\n",
       "      <td>NaN</td>\n",
       "      <td>106,565</td>\n",
       "      <td>NaN</td>\n",
       "      <td>nan%</td>\n",
       "    </tr>\n",
       "    <tr>\n",
       "      <th>1</th>\n",
       "      <td>455,024</td>\n",
       "      <td>486,738</td>\n",
       "      <td>-31,714</td>\n",
       "      <td>-6.5%</td>\n",
       "    </tr>\n",
       "    <tr>\n",
       "      <th>2</th>\n",
       "      <td>612,428</td>\n",
       "      <td>584,187</td>\n",
       "      <td>28,241</td>\n",
       "      <td>4.8%</td>\n",
       "    </tr>\n",
       "    <tr>\n",
       "      <th>3</th>\n",
       "      <td>362,250</td>\n",
       "      <td>297,104</td>\n",
       "      <td>65,146</td>\n",
       "      <td>21.9%</td>\n",
       "    </tr>\n",
       "    <tr>\n",
       "      <th>4</th>\n",
       "      <td>136,171</td>\n",
       "      <td>130,669</td>\n",
       "      <td>5,502</td>\n",
       "      <td>4.2%</td>\n",
       "    </tr>\n",
       "    <tr>\n",
       "      <th>5</th>\n",
       "      <td>32,852</td>\n",
       "      <td>NaN</td>\n",
       "      <td>NaN</td>\n",
       "      <td>nan%</td>\n",
       "    </tr>\n",
       "    <tr>\n",
       "      <th>6</th>\n",
       "      <td>6,162</td>\n",
       "      <td>NaN</td>\n",
       "      <td>NaN</td>\n",
       "      <td>nan%</td>\n",
       "    </tr>\n",
       "    <tr>\n",
       "      <th>7</th>\n",
       "      <td>735</td>\n",
       "      <td>NaN</td>\n",
       "      <td>NaN</td>\n",
       "      <td>nan%</td>\n",
       "    </tr>\n",
       "    <tr>\n",
       "      <th>8</th>\n",
       "      <td>192</td>\n",
       "      <td>NaN</td>\n",
       "      <td>NaN</td>\n",
       "      <td>nan%</td>\n",
       "    </tr>\n",
       "    <tr>\n",
       "      <th>9</th>\n",
       "      <td>389</td>\n",
       "      <td>NaN</td>\n",
       "      <td>NaN</td>\n",
       "      <td>nan%</td>\n",
       "    </tr>\n",
       "  </tbody>\n",
       "</table>\n",
       "</div>"
      ],
      "text/plain": [
       "   VisionEval  Soundcast    Diff % Diff\n",
       "0         NaN    106,565     NaN   nan%\n",
       "1     455,024    486,738 -31,714  -6.5%\n",
       "2     612,428    584,187  28,241   4.8%\n",
       "3     362,250    297,104  65,146  21.9%\n",
       "4     136,171    130,669   5,502   4.2%\n",
       "5      32,852        NaN     NaN   nan%\n",
       "6       6,162        NaN     NaN   nan%\n",
       "7         735        NaN     NaN   nan%\n",
       "8         192        NaN     NaN   nan%\n",
       "9         389        NaN     NaN   nan%"
      ]
     },
     "execution_count": 69,
     "metadata": {},
     "output_type": "execute_result"
    }
   ],
   "source": [
    "build_table(\"hh_df_base.groupby('Vehicles').count()['Age0to14']\", \"daysim_hh.groupby('hhvehs').sum()['hhexpfac']\")"
   ]
  },
  {
   "cell_type": "markdown",
   "metadata": {},
   "source": [
    "# Household Composition"
   ]
  },
  {
   "cell_type": "code",
   "execution_count": 70,
   "metadata": {},
   "outputs": [
    {
     "data": {
      "text/html": [
       "<div>\n",
       "<style scoped>\n",
       "    .dataframe tbody tr th:only-of-type {\n",
       "        vertical-align: middle;\n",
       "    }\n",
       "\n",
       "    .dataframe tbody tr th {\n",
       "        vertical-align: top;\n",
       "    }\n",
       "\n",
       "    .dataframe thead th {\n",
       "        text-align: right;\n",
       "    }\n",
       "</style>\n",
       "<table border=\"1\" class=\"dataframe\">\n",
       "  <thead>\n",
       "    <tr style=\"text-align: right;\">\n",
       "      <th></th>\n",
       "      <th>VisionEval</th>\n",
       "      <th>Soundcast</th>\n",
       "      <th>Diff</th>\n",
       "      <th>% Diff</th>\n",
       "    </tr>\n",
       "  </thead>\n",
       "  <tbody>\n",
       "    <tr>\n",
       "      <th>0</th>\n",
       "      <td>2.52</td>\n",
       "      <td>2.52</td>\n",
       "      <td>-0.00</td>\n",
       "      <td>-0.1%</td>\n",
       "    </tr>\n",
       "  </tbody>\n",
       "</table>\n",
       "</div>"
      ],
      "text/plain": [
       "   VisionEval  Soundcast  Diff % Diff\n",
       "0        2.52       2.52 -0.00  -0.1%"
      ]
     },
     "execution_count": 70,
     "metadata": {},
     "output_type": "execute_result"
    }
   ],
   "source": [
    "pd.options.display.float_format = '{:0,.2f}'.format\n",
    "build_table(\"hh_df_base['HhSize'].mean()\", \"daysim_hh['hhsize'].mean()\")"
   ]
  },
  {
   "cell_type": "code",
   "execution_count": 71,
   "metadata": {},
   "outputs": [],
   "source": [
    "# Create categories for daysim by age\n",
    "age_bins = [-1, 15, 20, 30, 55, 65, 200]\n",
    "age_labels = ['Age0to14','Age15to19','Age20to29','Age30to54','Age55to64','Age65Plus']\n",
    "daysim_person['age_group'] = pd.cut(daysim_person['pagey'], age_bins, labels=age_labels)\n",
    "df = daysim_person.groupby('age_group').sum()[['psexpfac']]"
   ]
  },
  {
   "cell_type": "code",
   "execution_count": 72,
   "metadata": {},
   "outputs": [
    {
     "data": {
      "text/html": [
       "<div>\n",
       "<style scoped>\n",
       "    .dataframe tbody tr th:only-of-type {\n",
       "        vertical-align: middle;\n",
       "    }\n",
       "\n",
       "    .dataframe tbody tr th {\n",
       "        vertical-align: top;\n",
       "    }\n",
       "\n",
       "    .dataframe thead th {\n",
       "        text-align: right;\n",
       "    }\n",
       "</style>\n",
       "<table border=\"1\" class=\"dataframe\">\n",
       "  <thead>\n",
       "    <tr style=\"text-align: right;\">\n",
       "      <th></th>\n",
       "      <th>VisionEval</th>\n",
       "      <th>Soundcast</th>\n",
       "      <th>Diff</th>\n",
       "      <th>% Diff</th>\n",
       "    </tr>\n",
       "  </thead>\n",
       "  <tbody>\n",
       "    <tr>\n",
       "      <th>Age0to14</th>\n",
       "      <td>689,370.00</td>\n",
       "      <td>738,213.00</td>\n",
       "      <td>-48,843.00</td>\n",
       "      <td>-6.6%</td>\n",
       "    </tr>\n",
       "    <tr>\n",
       "      <th>Age15to19</th>\n",
       "      <td>261,890.00</td>\n",
       "      <td>258,374.00</td>\n",
       "      <td>3,516.00</td>\n",
       "      <td>1.4%</td>\n",
       "    </tr>\n",
       "    <tr>\n",
       "      <th>Age20to29</th>\n",
       "      <td>553,679.00</td>\n",
       "      <td>572,952.00</td>\n",
       "      <td>-19,273.00</td>\n",
       "      <td>-3.4%</td>\n",
       "    </tr>\n",
       "    <tr>\n",
       "      <th>Age30to54</th>\n",
       "      <td>1,402,819.00</td>\n",
       "      <td>1,399,930.00</td>\n",
       "      <td>2,889.00</td>\n",
       "      <td>0.2%</td>\n",
       "    </tr>\n",
       "    <tr>\n",
       "      <th>Age55to64</th>\n",
       "      <td>572,932.00</td>\n",
       "      <td>558,953.00</td>\n",
       "      <td>13,979.00</td>\n",
       "      <td>2.5%</td>\n",
       "    </tr>\n",
       "    <tr>\n",
       "      <th>Age65Plus</th>\n",
       "      <td>572,402.00</td>\n",
       "      <td>524,732.00</td>\n",
       "      <td>47,670.00</td>\n",
       "      <td>9.1%</td>\n",
       "    </tr>\n",
       "  </tbody>\n",
       "</table>\n",
       "</div>"
      ],
      "text/plain": [
       "            VisionEval    Soundcast       Diff % Diff\n",
       "Age0to14    689,370.00   738,213.00 -48,843.00  -6.6%\n",
       "Age15to19   261,890.00   258,374.00   3,516.00   1.4%\n",
       "Age20to29   553,679.00   572,952.00 -19,273.00  -3.4%\n",
       "Age30to54 1,402,819.00 1,399,930.00   2,889.00   0.2%\n",
       "Age55to64   572,932.00   558,953.00  13,979.00   2.5%\n",
       "Age65Plus   572,402.00   524,732.00  47,670.00   9.1%"
      ]
     },
     "execution_count": 72,
     "metadata": {},
     "output_type": "execute_result"
    }
   ],
   "source": [
    "build_table(\"hh_df_base[age_labels].sum()\", \"df['psexpfac']\")\n"
   ]
  },
  {
   "cell_type": "markdown",
   "metadata": {},
   "source": [
    "## Workers"
   ]
  },
  {
   "cell_type": "code",
   "execution_count": 73,
   "metadata": {},
   "outputs": [
    {
     "data": {
      "text/html": [
       "<div>\n",
       "<style scoped>\n",
       "    .dataframe tbody tr th:only-of-type {\n",
       "        vertical-align: middle;\n",
       "    }\n",
       "\n",
       "    .dataframe tbody tr th {\n",
       "        vertical-align: top;\n",
       "    }\n",
       "\n",
       "    .dataframe thead th {\n",
       "        text-align: right;\n",
       "    }\n",
       "</style>\n",
       "<table border=\"1\" class=\"dataframe\">\n",
       "  <thead>\n",
       "    <tr style=\"text-align: right;\">\n",
       "      <th></th>\n",
       "      <th>VisionEval</th>\n",
       "      <th>Soundcast</th>\n",
       "      <th>Diff</th>\n",
       "      <th>% Diff</th>\n",
       "    </tr>\n",
       "  </thead>\n",
       "  <tbody>\n",
       "    <tr>\n",
       "      <th>0</th>\n",
       "      <td>1,950,188.00</td>\n",
       "      <td>1,982,128.00</td>\n",
       "      <td>-31,940.00</td>\n",
       "      <td>-1.6%</td>\n",
       "    </tr>\n",
       "  </tbody>\n",
       "</table>\n",
       "</div>"
      ],
      "text/plain": [
       "    VisionEval    Soundcast       Diff % Diff\n",
       "0 1,950,188.00 1,982,128.00 -31,940.00  -1.6%"
      ]
     },
     "execution_count": 73,
     "metadata": {},
     "output_type": "execute_result"
    }
   ],
   "source": [
    "build_table(\"hh_df_base['Workers'].sum()\", \"daysim_person[daysim_person['pwtyp'] > 0]['psexpfac'].sum()\")\n"
   ]
  },
  {
   "cell_type": "code",
   "execution_count": 74,
   "metadata": {},
   "outputs": [
    {
     "data": {
      "text/html": [
       "<div>\n",
       "<style scoped>\n",
       "    .dataframe tbody tr th:only-of-type {\n",
       "        vertical-align: middle;\n",
       "    }\n",
       "\n",
       "    .dataframe tbody tr th {\n",
       "        vertical-align: top;\n",
       "    }\n",
       "\n",
       "    .dataframe thead th {\n",
       "        text-align: right;\n",
       "    }\n",
       "</style>\n",
       "<table border=\"1\" class=\"dataframe\">\n",
       "  <thead>\n",
       "    <tr style=\"text-align: right;\">\n",
       "      <th></th>\n",
       "      <th>VisionEval</th>\n",
       "      <th>Soundcast</th>\n",
       "      <th>Diff</th>\n",
       "      <th>% Diff</th>\n",
       "    </tr>\n",
       "  </thead>\n",
       "  <tbody>\n",
       "    <tr>\n",
       "      <th>15to19</th>\n",
       "      <td>55,620.00</td>\n",
       "      <td>65,953.00</td>\n",
       "      <td>-10,333.00</td>\n",
       "      <td>-15.7%</td>\n",
       "    </tr>\n",
       "    <tr>\n",
       "      <th>20to29</th>\n",
       "      <td>382,781.00</td>\n",
       "      <td>422,307.00</td>\n",
       "      <td>-39,526.00</td>\n",
       "      <td>-9.4%</td>\n",
       "    </tr>\n",
       "    <tr>\n",
       "      <th>30to54</th>\n",
       "      <td>1,051,579.00</td>\n",
       "      <td>1,086,230.00</td>\n",
       "      <td>-34,651.00</td>\n",
       "      <td>-3.2%</td>\n",
       "    </tr>\n",
       "    <tr>\n",
       "      <th>55to64</th>\n",
       "      <td>360,372.00</td>\n",
       "      <td>329,537.00</td>\n",
       "      <td>30,835.00</td>\n",
       "      <td>9.4%</td>\n",
       "    </tr>\n",
       "    <tr>\n",
       "      <th>65Plus</th>\n",
       "      <td>99,836.00</td>\n",
       "      <td>78,101.00</td>\n",
       "      <td>21,735.00</td>\n",
       "      <td>27.8%</td>\n",
       "    </tr>\n",
       "  </tbody>\n",
       "</table>\n",
       "</div>"
      ],
      "text/plain": [
       "         VisionEval    Soundcast       Diff  % Diff\n",
       "15to19    55,620.00    65,953.00 -10,333.00  -15.7%\n",
       "20to29   382,781.00   422,307.00 -39,526.00   -9.4%\n",
       "30to54 1,051,579.00 1,086,230.00 -34,651.00   -3.2%\n",
       "55to64   360,372.00   329,537.00  30,835.00    9.4%\n",
       "65Plus    99,836.00    78,101.00  21,735.00   27.8%"
      ]
     },
     "execution_count": 74,
     "metadata": {},
     "output_type": "execute_result"
    }
   ],
   "source": [
    "# Workers by Age\n",
    "worker_age_group = ['15to19', '20to29','30to54', '55to64', '65Plus']\n",
    "worker_cols = ['Wkr'+i for i in worker_age_group]\n",
    "df = hh_df_base[worker_cols].sum()\n",
    "df.index = worker_age_group\n",
    "\n",
    "df_sc = daysim_person[daysim_person['pwtyp'] >0].groupby('age_group').sum()['psexpfac']\n",
    "df_sc.drop('Age0to14', inplace=True)\n",
    "df_sc.index = worker_age_group\n",
    "\n",
    "build_table(\"df\",\"df_sc\")"
   ]
  },
  {
   "cell_type": "markdown",
   "metadata": {},
   "source": [
    "## Income"
   ]
  },
  {
   "cell_type": "code",
   "execution_count": 75,
   "metadata": {},
   "outputs": [
    {
     "data": {
      "text/html": [
       "<div>\n",
       "<style scoped>\n",
       "    .dataframe tbody tr th:only-of-type {\n",
       "        vertical-align: middle;\n",
       "    }\n",
       "\n",
       "    .dataframe tbody tr th {\n",
       "        vertical-align: top;\n",
       "    }\n",
       "\n",
       "    .dataframe thead th {\n",
       "        text-align: right;\n",
       "    }\n",
       "</style>\n",
       "<table border=\"1\" class=\"dataframe\">\n",
       "  <thead>\n",
       "    <tr style=\"text-align: right;\">\n",
       "      <th></th>\n",
       "      <th>VisionEval</th>\n",
       "      <th>Soundcast</th>\n",
       "      <th>Diff</th>\n",
       "      <th>% Diff</th>\n",
       "    </tr>\n",
       "  </thead>\n",
       "  <tbody>\n",
       "    <tr>\n",
       "      <th>0</th>\n",
       "      <td>106,933.18</td>\n",
       "      <td>107,071.37</td>\n",
       "      <td>-138.19</td>\n",
       "      <td>-0.1%</td>\n",
       "    </tr>\n",
       "  </tbody>\n",
       "</table>\n",
       "</div>"
      ],
      "text/plain": [
       "   VisionEval  Soundcast    Diff % Diff\n",
       "0  106,933.18 107,071.37 -138.19  -0.1%"
      ]
     },
     "execution_count": 75,
     "metadata": {},
     "output_type": "execute_result"
    }
   ],
   "source": [
    "# Mean Income\n",
    "build_table(\"hh_df_base['Income'].mean()\",\"daysim_hh['hhincome'].mean()\")"
   ]
  },
  {
   "cell_type": "code",
   "execution_count": 76,
   "metadata": {},
   "outputs": [
    {
     "data": {
      "text/html": [
       "<div>\n",
       "<style scoped>\n",
       "    .dataframe tbody tr th:only-of-type {\n",
       "        vertical-align: middle;\n",
       "    }\n",
       "\n",
       "    .dataframe tbody tr th {\n",
       "        vertical-align: top;\n",
       "    }\n",
       "\n",
       "    .dataframe thead th {\n",
       "        text-align: right;\n",
       "    }\n",
       "</style>\n",
       "<table border=\"1\" class=\"dataframe\">\n",
       "  <thead>\n",
       "    <tr style=\"text-align: right;\">\n",
       "      <th></th>\n",
       "      <th>VisionEval</th>\n",
       "      <th>Soundcast</th>\n",
       "      <th>Diff</th>\n",
       "      <th>% Diff</th>\n",
       "    </tr>\n",
       "  </thead>\n",
       "  <tbody>\n",
       "    <tr>\n",
       "      <th>0</th>\n",
       "      <td>106,933.18</td>\n",
       "      <td>82,000.00</td>\n",
       "      <td>24,933.18</td>\n",
       "      <td>30.4%</td>\n",
       "    </tr>\n",
       "  </tbody>\n",
       "</table>\n",
       "</div>"
      ],
      "text/plain": [
       "   VisionEval  Soundcast      Diff % Diff\n",
       "0  106,933.18  82,000.00 24,933.18  30.4%"
      ]
     },
     "execution_count": 76,
     "metadata": {},
     "output_type": "execute_result"
    }
   ],
   "source": [
    "# Median Income\n",
    "build_table(\"hh_df_base['Income'].mean()\",\"daysim_hh['hhincome'].median()\")"
   ]
  },
  {
   "cell_type": "code",
   "execution_count": 77,
   "metadata": {},
   "outputs": [
    {
     "data": {
      "text/plain": [
       "<matplotlib.legend.Legend at 0x1dd0b875808>"
      ]
     },
     "execution_count": 77,
     "metadata": {},
     "output_type": "execute_result"
    },
    {
     "data": {
      "image/png": "[encoded data removed]",
      "text/plain": [
       "<Figure size 432x288 with 1 Axes>"
      ]
     },
     "metadata": {
      "needs_background": "light"
     },
     "output_type": "display_data"
    }
   ],
   "source": [
    "%matplotlib inline\n",
    "ax= hh_df_base[hh_df_base['Income'] < 200000]['Income'].plot(kind='hist', bins=20,  alpha=0.6, legend=True)\n",
    "daysim_hh[daysim_hh['hhincome'] < 200000]['hhincome'].plot(kind='hist', bins=20, ax=ax, alpha=0.6, legend=True)\n",
    "ax.legend(labels=['VisionEval','Soundcast'])\n",
    "# plt.legend,'test2"
   ]
  },
  {
   "cell_type": "code",
   "execution_count": 78,
   "metadata": {},
   "outputs": [
    {
     "data": {
      "text/plain": [
       "78954868.74608612"
      ]
     },
     "execution_count": 78,
     "metadata": {},
     "output_type": "execute_result"
    }
   ],
   "source": [
    "hh_df_base['Dvmt'].sum()"
   ]
  },
  {
   "cell_type": "code",
   "execution_count": null,
   "metadata": {},
   "outputs": [],
   "source": []
  }
 ],
 "metadata": {
  "interpreter": {
   "hash": "a01578ef7fc98460838ddfd60bd3288ea700197594b0894c527f4f3349251842"
  },
  "kernelspec": {
   "display_name": "Python 3.7.10 ('summary')",
   "language": "python",
   "name": "python3"
  },
  "language_info": {
   "codemirror_mode": {
    "name": "ipython",
    "version": 3
   },
   "file_extension": ".py",
   "mimetype": "text/x-python",
   "name": "python",
   "nbconvert_exporter": "python",
   "pygments_lexer": "ipython3",
   "version": "3.7.10"
  },
  "orig_nbformat": 4
 },
 "nbformat": 4,
 "nbformat_minor": 2
}
